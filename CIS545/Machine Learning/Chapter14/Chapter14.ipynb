{
 "cells": [
  {
   "cell_type": "code",
   "execution_count": 25,
   "metadata": {
    "collapsed": false,
    "deletable": true,
    "editable": true
   },
   "outputs": [],
   "source": [
    "import tensorflow as tf\n",
    "import numpy as np\n",
    "import matplotlib.pyplot as plt"
   ]
  },
  {
   "cell_type": "code",
   "execution_count": 60,
   "metadata": {
    "collapsed": false,
    "deletable": true,
    "editable": true
   },
   "outputs": [
    {
     "name": "stdout",
     "output_type": "stream",
     "text": [
      "<tf.Variable 'w1:0' shape=() dtype=int32_ref>\n",
      "w1:  1\n"
     ]
    }
   ],
   "source": [
    "g2 = tf.Graph()\n",
    "with g2.as_default():\n",
    "    w1 = tf.Variable(1, name='w1')\n",
    "    init_op=tf.global_variables_initializer()\n",
    "    w2 = tf.Variable(2, name='w2')\n",
    "    print(w1)\n",
    "    \n",
    "with tf.Session(graph=g2) as sess:\n",
    "    sess.run(init_op)\n",
    "    print('w1: ', sess.run(w1))"
   ]
  },
  {
   "cell_type": "code",
   "execution_count": 50,
   "metadata": {
    "collapsed": true,
    "deletable": true,
    "editable": true
   },
   "outputs": [],
   "source": [
    "g = tf.Graph()\n",
    "\n",
    "with g.as_default():\n",
    "    tf.set_random_seed(123)\n",
    "    tf_x = tf.placeholder(shape=(None),\n",
    "                          dtype=tf.float32,\n",
    "                          name='tf_x')\n",
    "    tf_y = tf.placeholder(shape=(None),\n",
    "                          dtype=tf.float32,\n",
    "                          name='tf_y')\n",
    "    weight = tf.Variable(tf.random_normal(shape=(1,1),stddev=0.25), name='weight')\n",
    "    bias = tf.Variable(0.0, name='bias')\n",
    "    \n",
    "    y_hat = tf.add(weight * tf_x, bias, name='y_hat')\n",
    "    \n",
    "    cost = tf.reduce_mean(tf.square(tf_y - y_hat), name='cost')\n",
    "    \n",
    "    optim = tf.train.GradientDescentOptimizer(\n",
    "            learning_rate=0.001)\n",
    "    train_op = optim.minimize(cost, name='train_op')"
   ]
  },
  {
   "cell_type": "code",
   "execution_count": 51,
   "metadata": {
    "collapsed": false
   },
   "outputs": [
    {
     "data": {
      "image/png": "[encoded data removed]",
      "text/plain": [
       "<matplotlib.figure.Figure at 0x118ba9208>"
      ]
     },
     "metadata": {},
     "output_type": "display_data"
    }
   ],
   "source": [
    "np.random.seed(0)\n",
    "\n",
    "def make_random_data():\n",
    "    x = np.random.uniform(low=-2, high=4, size=200)\n",
    "    y = []\n",
    "    for t in x:\n",
    "        r = np.random.normal(loc=0.0, scale=(0.5 + t*t/3), size=None)\n",
    "        y.append(r)\n",
    "    return x, 1.726*x -0.84 + np.array(y)\n",
    "\n",
    "x, y = make_random_data()\n",
    "plt.plot(x,y,'o')\n",
    "plt.show()"
   ]
  },
  {
   "cell_type": "code",
   "execution_count": 54,
   "metadata": {
    "collapsed": false
   },
   "outputs": [
    {
     "name": "stdout",
     "output_type": "stream",
     "text": [
      "Epoch    0:  12.2230\n",
      "Epoch   50:   8.3876\n",
      "Epoch  100:   6.5721\n",
      "Epoch  150:   5.6844\n",
      "Epoch  200:   5.2269\n",
      "Epoch  250:   4.9725\n",
      "Epoch  300:   4.8169\n",
      "Epoch  350:   4.7119\n",
      "Epoch  400:   4.6347\n",
      "Epoch  450:   4.5742\n"
     ]
    },
    {
     "data": {
      "image/png": "[encoded data removed]",
      "text/plain": [
       "<matplotlib.figure.Figure at 0x117a93518>"
      ]
     },
     "metadata": {},
     "output_type": "display_data"
    }
   ],
   "source": [
    "X_train, y_train = x[:100], y[:100]\n",
    "X_test, y_test = x[100:], y[100:]\n",
    "\n",
    "n_epochs = 500\n",
    "training_costs = []\n",
    "\n",
    "with tf.Session(graph=g) as sess:\n",
    "    sess.run(tf.global_variables_initializer())\n",
    "    \n",
    "    for e in range(n_epochs):\n",
    "        c,_ = sess.run([cost, train_op], feed_dict={tf_x:X_train, tf_y:y_train})\n",
    "        training_costs.append(c)\n",
    "        if not e % 50:\n",
    "            print('Epoch %4d: %8.4f' % (e, c))\n",
    "            \n",
    "plt.plot(training_costs)\n",
    "plt.show()"
   ]
  },
  {
   "cell_type": "code",
   "execution_count": 62,
   "metadata": {
    "collapsed": false
   },
   "outputs": [
    {
     "name": "stdout",
     "output_type": "stream",
     "text": [
      "<tf.Variable 'classifier/weights:0' shape=(100, 2) dtype=float32_ref>\n",
      "<tf.Variable 'classifier/bias:0' shape=(2,) dtype=float32_ref>\n",
      "Tensor(\"classifier/logits:0\", shape=(64, 2), dtype=float32)\n",
      "<tf.Variable 'classifier/weights:0' shape=(100, 2) dtype=float32_ref>\n",
      "<tf.Variable 'classifier/bias:0' shape=(2,) dtype=float32_ref>\n",
      "Tensor(\"classifier/logits_1:0\", shape=(64, 2), dtype=float32)\n"
     ]
    }
   ],
   "source": [
    "def build_classifier(data, labels, n_classes=2):\n",
    "    data_shape = data.get_shape().as_list()\n",
    "    weights = tf.get_variable(name = 'weights',\n",
    "                              shape=(data_shape[1],\n",
    "                                     n_classes),\n",
    "                              dtype=tf.float32)\n",
    "    bias = tf.get_variable(name='bias', \n",
    "                           initializer=tf.zeros(\n",
    "                                     shape=n_classes))\n",
    "    print(weights)\n",
    "    print(bias)\n",
    "    logits = tf.add(tf.matmul(data, weights), \n",
    "                    bias, \n",
    "                    name='logits')\n",
    "    print(logits)\n",
    "    return logits, tf.nn.softmax(logits)\n",
    "\n",
    "\n",
    "def build_generator(data, n_hidden):\n",
    "    data_shape = data.get_shape().as_list()\n",
    "    w1 = tf.Variable(\n",
    "        tf.random_normal(shape=(data_shape[1], \n",
    "                                n_hidden)),\n",
    "        name='w1')\n",
    "    b1 = tf.Variable(tf.zeros(shape=n_hidden),\n",
    "                     name='b1')\n",
    "    hidden = tf.add(tf.matmul(data, w1), b1, \n",
    "                    name='hidden_pre-activation')\n",
    "    hidden = tf.nn.relu(hidden, 'hidden_activation')\n",
    "        \n",
    "    w2 = tf.Variable(\n",
    "        tf.random_normal(shape=(n_hidden, \n",
    "                                data_shape[1])),\n",
    "        name='w2')\n",
    "    b2 = tf.Variable(tf.zeros(shape=data_shape[1]),\n",
    "                     name='b2')\n",
    "    output = tf.add(tf.matmul(hidden, w2), b2, \n",
    "                    name = 'output')\n",
    "    return output, tf.nn.sigmoid(output)\n",
    "\n",
    "\n",
    "###########################\n",
    "##  Building the graph   ##\n",
    "###########################\n",
    "\n",
    "batch_size=64\n",
    "g = tf.Graph()\n",
    "\n",
    "with g.as_default():\n",
    "    tf_X = tf.placeholder(shape=(batch_size, 100), \n",
    "                          dtype=tf.float32,\n",
    "                          name='tf_X')\n",
    "    \n",
    "    ## build the generator\n",
    "    with tf.variable_scope('generator'):\n",
    "        gen_out1 = build_generator(data=tf_X, \n",
    "                                   n_hidden=50)\n",
    "    \n",
    "    ## build the classifier\n",
    "    with tf.variable_scope('classifier') as scope:\n",
    "        ## classifier for the original data:\n",
    "        cls_out1 = build_classifier(data=tf_X, \n",
    "                                    labels=tf.ones(\n",
    "                                        shape=batch_size))\n",
    "        \n",
    "        ## reuse the classifier for generated data\n",
    "        scope.reuse_variables()\n",
    "        cls_out2 = build_classifier(data=gen_out1[1],\n",
    "                                    labels=tf.zeros(\n",
    "                                        shape=batch_size))\n",
    "        \n",
    "with tf.Session(graph = g) as sess:\n",
    "    sess.run(tf.global_variables_initializer())\n",
    "    \n",
    "    file_writer = tf.summary.FileWriter(logdir='logs/', graph=g)"
   ]
  },
  {
   "cell_type": "code",
   "execution_count": null,
   "metadata": {
    "collapsed": false
   },
   "outputs": [],
   "source": []
  },
  {
   "cell_type": "code",
   "execution_count": null,
   "metadata": {
    "collapsed": true
   },
   "outputs": [],
   "source": []
  }
 ],
 "metadata": {
  "kernelspec": {
   "display_name": "Python 3",
   "language": "python",
   "name": "python3"
  },
  "language_info": {
   "codemirror_mode": {
    "name": "ipython",
    "version": 3
   },
   "file_extension": ".py",
   "mimetype": "text/x-python",
   "name": "python",
   "nbconvert_exporter": "python",
   "pygments_lexer": "ipython3",
   "version": "3.5.2"
  }
 },
 "nbformat": 4,
 "nbformat_minor": 2
}
